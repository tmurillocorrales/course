{
 "cells": [
  {
   "cell_type": "code",
   "execution_count": null,
   "metadata": {},
   "outputs": [],
   "source": [
    "#!/usr/bin/env python3\n",
    "# -*- coding: utf-8 -*-\n",
    "#\n",
    "# team: elisabeth, wenqi, tati\n",
    "\n",
    "import random\n",
    "import time\n",
    "import sys\n",
    "\n",
    "def get_random_number(start, end):\n",
    "    num = random.randint(start, end)\n",
    "    return num\n",
    "\n",
    "\n",
    "def write_log_file(outputfilename, data):\n",
    "    f = open(outputfilename + \".log\", \"a\")\n",
    "    f.write(\"My randomly generated number is \" + str(data) + \" (\" + time.strftime(\"%H:%M:%S\") + \")\\n\")\n",
    "    f.close()\n",
    "\n",
    "\n",
    "if __name__ == \"__main__\":\n",
    "    outputfilename = \"randomNumber\"\n",
    "    roll = get_random_number(1, 100)\n",
    "    write_log_file(outputfilename, roll)"
   ]
  }
 ],
 "metadata": {
  "kernelspec": {
   "display_name": "py37",
   "language": "python",
   "name": "py37"
  },
  "language_info": {
   "codemirror_mode": {
    "name": "ipython",
    "version": 3
   },
   "file_extension": ".py",
   "mimetype": "text/x-python",
   "name": "python",
   "nbconvert_exporter": "python",
   "pygments_lexer": "ipython3",
   "version": "3.7.6"
  }
 },
 "nbformat": 4,
 "nbformat_minor": 4
}
